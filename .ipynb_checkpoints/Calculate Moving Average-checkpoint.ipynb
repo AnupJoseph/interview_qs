{
 "cells": [
  {
   "cell_type": "markdown",
   "id": "d03b7fd4-5b6d-43fb-bcf7-f61c871377e7",
   "metadata": {},
   "source": [
    "Hi, \n",
    "\n",
    "You are given a list of numbers J and a single number p.  Write a function to return the minimum and maximum averages of the sequences of p numbers in the list J.\n",
    "\n",
    "For example:\n",
    "```py\n",
    "# Array of numbers\n",
    "J = [4, 4, 4, 9, 10, 11, 12]\n",
    "    \n",
    "\n",
    "# Length of sequences, p\n",
    "p = 3\n",
    "```\n",
    "\n",
    "Here, the sequences will be: \n",
    "* (4,4,4)\n",
    "* (4,4,9)\n",
    "* (4,9,10)  \n",
    "* (9,10,11)  \n",
    "* (10,11,12)  \n",
    "\n",
    "From the above we can see that the minimum average will be 4 and the maximum average will be 11, which corresponds to the first and last sequences."
   ]
  },
  {
   "cell_type": "code",
   "execution_count": 9,
   "id": "18c12584-4b5d-452a-a332-65f9839df925",
   "metadata": {},
   "outputs": [],
   "source": [
    "def build_min_and_max_averages(J,p):\n",
    "    start = 0\n",
    "    min_av = sum(J[:p])/p\n",
    "    max_av = sum(J[:p])/p\n",
    "\n",
    "    for i in range(p,len(J)+1):\n",
    "        \n",
    "        arr = J[start:i]\n",
    "        if sum(arr)/p>=max_av:\n",
    "            max_av = sum(arr)/p\n",
    "        if sum(arr)/p<min_av:\n",
    "            min_av = sum(arr)/p\n",
    "        start+=1\n",
    "    return min_av,max_av\n",
    "        \n",
    "        \n",
    "        "
   ]
  },
  {
   "cell_type": "code",
   "execution_count": 10,
   "id": "35e903f4-4c69-4456-b631-ec0d03aef255",
   "metadata": {},
   "outputs": [
    {
     "data": {
      "text/plain": [
       "(4.0, 11.0)"
      ]
     },
     "execution_count": 10,
     "metadata": {},
     "output_type": "execute_result"
    }
   ],
   "source": [
    "build_min_and_max_averages([4, 4, 4, 9, 10, 11, 12],3)"
   ]
  },
  {
   "cell_type": "code",
   "execution_count": null,
   "id": "94166dea-4deb-4409-bd84-bb14ce1af563",
   "metadata": {},
   "outputs": [],
   "source": []
  }
 ],
 "metadata": {
  "kernelspec": {
   "display_name": "Python 3 (ipykernel)",
   "language": "python",
   "name": "python3"
  },
  "language_info": {
   "codemirror_mode": {
    "name": "ipython",
    "version": 3
   },
   "file_extension": ".py",
   "mimetype": "text/x-python",
   "name": "python",
   "nbconvert_exporter": "python",
   "pygments_lexer": "ipython3",
   "version": "3.10.11"
  }
 },
 "nbformat": 4,
 "nbformat_minor": 5
}
