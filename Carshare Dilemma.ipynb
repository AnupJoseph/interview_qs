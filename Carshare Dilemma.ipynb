{
 "cells": [
  {
   "cell_type": "markdown",
   "id": "f79d891a-e8c6-40ff-8f2d-32815aa5f617",
   "metadata": {},
   "source": [
    "Suppose we have selected a group of people to take a survey. 35% of the group like Uber, 20% like both Lyft and Uber, and 25% like neither Lyft nor Uber. Given this information, what percentage of the sample likes Lyft?"
   ]
  },
  {
   "cell_type": "markdown",
   "id": "cd440113-f035-43ee-b94b-f1fef1c9a313",
   "metadata": {},
   "source": [
    "\n",
    "There's a Weirdly easy way to solve this with a Venn Diagram\n",
    "We already know that 25% dislike both.\n",
    "So we are dealing with a total of 75%.\n",
    "35% of Users love just Uber and 20% of users like both Uber and Lyft. If we add them up and subtract them from the total remaining users we arrive at 20%."
   ]
  },
  {
   "cell_type": "code",
   "execution_count": null,
   "id": "3a2cb566-53c7-4f2e-93f3-2cd819af8364",
   "metadata": {},
   "outputs": [],
   "source": []
  }
 ],
 "metadata": {
  "kernelspec": {
   "display_name": "Python 3 (ipykernel)",
   "language": "python",
   "name": "python3"
  },
  "language_info": {
   "codemirror_mode": {
    "name": "ipython",
    "version": 3
   },
   "file_extension": ".py",
   "mimetype": "text/x-python",
   "name": "python",
   "nbconvert_exporter": "python",
   "pygments_lexer": "ipython3",
   "version": "3.10.11"
  }
 },
 "nbformat": 4,
 "nbformat_minor": 5
}
