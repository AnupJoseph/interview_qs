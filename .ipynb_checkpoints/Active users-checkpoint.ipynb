{
 "cells": [
  {
   "cell_type": "markdown",
   "id": "a9a0e17c-053c-497b-889a-1bd2592ce953",
   "metadata": {},
   "source": [
    "Hi, \n",
    "\n",
    "Here is a table containing information from a P2P messaging application. The table contains send/receive message data for the application's users. The structure is as follows:\n",
    "\n",
    "\n",
    "    \n",
    "\n",
    "Table name: `user_messaging`\n",
    "\n",
    "| date                                     |\r\n",
    "|------------------------------------------|\r\n",
    "| sender_id (#id of the message sender)    |\r\n",
    "| receiver_id (#id of the message receiver |     \n",
    "    \n",
    "\n",
    "\n",
    "\n",
    "\n",
    "\n",
    "Question: Using Python, calculate what fraction of senders sent messages to at least 9 unique people on March 1, 2018. "
   ]
  },
  {
   "cell_type": "code",
   "execution_count": null,
   "id": "92e5f320-8332-487d-b3ec-acf91beeea94",
   "metadata": {},
   "outputs": [],
   "source": []
  }
 ],
 "metadata": {
  "kernelspec": {
   "display_name": "Python 3 (ipykernel)",
   "language": "python",
   "name": "python3"
  },
  "language_info": {
   "codemirror_mode": {
    "name": "ipython",
    "version": 3
   },
   "file_extension": ".py",
   "mimetype": "text/x-python",
   "name": "python",
   "nbconvert_exporter": "python",
   "pygments_lexer": "ipython3",
   "version": "3.10.11"
  }
 },
 "nbformat": 4,
 "nbformat_minor": 5
}
